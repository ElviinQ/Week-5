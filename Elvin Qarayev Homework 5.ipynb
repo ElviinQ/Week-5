{
 "cells": [
  {
   "cell_type": "code",
   "execution_count": 64,
   "metadata": {},
   "outputs": [],
   "source": [
    "# Import pandas for data processing\n",
    "%matplotlib inline\n",
    "\n",
    "import numpy as np\n",
    "import pandas as pd\n",
    "import seaborn as sns\n",
    "\n",
    "import matplotlib.pyplot as plt\n",
    "from matplotlib.colors import ListedColormap\n",
    "\n",
    "\n",
    "import warnings \n",
    "from sklearn.preprocessing import LabelEncoder\n",
    "from sklearn.preprocessing import StandardScaler, normalize\n",
    "\n",
    "from sklearn.cluster import KMeans\n",
    "\n",
    "import scipy.cluster.hierarchy as sch\n",
    "from scipy.cluster.hierarchy import linkage, dendrogram\n",
    "from sklearn.cluster import AgglomerativeClustering\n",
    "\n",
    "\n",
    "from sklearn.decomposition import PCA\n",
    "\n",
    "from sklearn.metrics import silhouette_score\n",
    "from sklearn.metrics import confusion_matrix\n",
    "from sklearn.metrics import accuracy_score\n",
    "\n",
    "from sklearn.model_selection import train_test_split\n",
    "from sklearn.linear_model import LogisticRegression"
   ]
  },
  {
   "cell_type": "code",
   "execution_count": 65,
   "metadata": {},
   "outputs": [
    {
     "data": {
      "text/html": [
       "<div>\n",
       "<style scoped>\n",
       "    .dataframe tbody tr th:only-of-type {\n",
       "        vertical-align: middle;\n",
       "    }\n",
       "\n",
       "    .dataframe tbody tr th {\n",
       "        vertical-align: top;\n",
       "    }\n",
       "\n",
       "    .dataframe thead th {\n",
       "        text-align: right;\n",
       "    }\n",
       "</style>\n",
       "<table border=\"1\" class=\"dataframe\">\n",
       "  <thead>\n",
       "    <tr style=\"text-align: right;\">\n",
       "      <th></th>\n",
       "      <th>marks</th>\n",
       "      <th>shours</th>\n",
       "    </tr>\n",
       "  </thead>\n",
       "  <tbody>\n",
       "    <tr>\n",
       "      <th>0</th>\n",
       "      <td>72</td>\n",
       "      <td>20.0</td>\n",
       "    </tr>\n",
       "    <tr>\n",
       "      <th>1</th>\n",
       "      <td>42</td>\n",
       "      <td>19.0</td>\n",
       "    </tr>\n",
       "    <tr>\n",
       "      <th>2</th>\n",
       "      <td>77</td>\n",
       "      <td>7.0</td>\n",
       "    </tr>\n",
       "    <tr>\n",
       "      <th>3</th>\n",
       "      <td>93</td>\n",
       "      <td>22.0</td>\n",
       "    </tr>\n",
       "    <tr>\n",
       "      <th>4</th>\n",
       "      <td>30</td>\n",
       "      <td>20.0</td>\n",
       "    </tr>\n",
       "  </tbody>\n",
       "</table>\n",
       "</div>"
      ],
      "text/plain": [
       "   marks  shours\n",
       "0     72    20.0\n",
       "1     42    19.0\n",
       "2     77     7.0\n",
       "3     93    22.0\n",
       "4     30    20.0"
      ]
     },
     "execution_count": 65,
     "metadata": {},
     "output_type": "execute_result"
    }
   ],
   "source": [
    "# Read the dataset\n",
    "student=pd.read_csv('studentclusters.csv')\n",
    "student.head()"
   ]
  },
  {
   "cell_type": "code",
   "execution_count": 66,
   "metadata": {},
   "outputs": [
    {
     "data": {
      "text/plain": [
       "[20,\n",
       " 19,\n",
       " 7,\n",
       " 22,\n",
       " 20,\n",
       " 15,\n",
       " 8,\n",
       " 24,\n",
       " 26,\n",
       " 7,\n",
       " 30,\n",
       " 8,\n",
       " 18,\n",
       " 23,\n",
       " 22,\n",
       " 16,\n",
       " 15,\n",
       " 23,\n",
       " 17,\n",
       " 21,\n",
       " 21,\n",
       " 7,\n",
       " 17,\n",
       " 15,\n",
       " 18,\n",
       " 5,\n",
       " 16,\n",
       " 14,\n",
       " 27,\n",
       " 17,\n",
       " 3,\n",
       " 4,\n",
       " 9,\n",
       " 2,\n",
       " 14,\n",
       " 2,\n",
       " 16,\n",
       " 14,\n",
       " 16,\n",
       " 10,\n",
       " 4,\n",
       " 18,\n",
       " 23,\n",
       " 16,\n",
       " 26,\n",
       " 17,\n",
       " 16,\n",
       " 5,\n",
       " 21]"
      ]
     },
     "execution_count": 66,
     "metadata": {},
     "output_type": "execute_result"
    }
   ],
   "source": [
    "Y=student['shours']\n",
    "yeniY=[]\n",
    "for i in Y:\n",
    "    i=int(i)\n",
    "    yeniY.append(i)\n",
    "    \n",
    "yeniY"
   ]
  },
  {
   "cell_type": "code",
   "execution_count": 67,
   "metadata": {},
   "outputs": [
    {
     "data": {
      "image/png": "[encoded data removed]",
      "text/plain": [
       "<Figure size 432x288 with 1 Axes>"
      ]
     },
     "metadata": {
      "needs_background": "light"
     },
     "output_type": "display_data"
    }
   ],
   "source": [
    "# Visualise the data using Scatter plot\n",
    "import matplotlib.pyplot as plt\n",
    "X=student['marks']\n",
    "Y=yeniY\n",
    "plt.scatter(X, Y, data=student)\n",
    "plt.show()"
   ]
  },
  {
   "cell_type": "code",
   "execution_count": 68,
   "metadata": {},
   "outputs": [],
   "source": [
    "# Fit and Transform the data for MinMax normalization\n",
    "from sklearn.preprocessing import MinMaxScaler \n"
   ]
  },
  {
   "cell_type": "code",
   "execution_count": 69,
   "metadata": {},
   "outputs": [
    {
     "data": {
      "text/plain": [
       "array([[0.71232877, 0.64285714],\n",
       "       [0.30136986, 0.60714286],\n",
       "       [0.78082192, 0.17857143],\n",
       "       [1.        , 0.71428571],\n",
       "       [0.1369863 , 0.64285714],\n",
       "       [0.45205479, 0.46428571],\n",
       "       [0.73972603, 0.21428571],\n",
       "       [0.10958904, 0.78571429],\n",
       "       [0.67123288, 0.85714286],\n",
       "       [0.60273973, 0.17857143],\n",
       "       [0.91780822, 1.        ],\n",
       "       [0.68493151, 0.21428571],\n",
       "       [0.30136986, 0.57142857],\n",
       "       [0.80821918, 0.75      ],\n",
       "       [0.23287671, 0.71428571],\n",
       "       [0.43835616, 0.5       ],\n",
       "       [0.42465753, 0.46428571],\n",
       "       [0.06849315, 0.75      ],\n",
       "       [0.38356164, 0.53571429],\n",
       "       [0.89041096, 0.67857143],\n",
       "       [0.02739726, 0.67857143],\n",
       "       [0.5890411 , 0.19642857],\n",
       "       [0.30136986, 0.53571429],\n",
       "       [0.54794521, 0.46428571],\n",
       "       [0.49315068, 0.57142857],\n",
       "       [0.04109589, 0.10714286],\n",
       "       [0.30136986, 0.5       ],\n",
       "       [0.2739726 , 0.42857143],\n",
       "       [0.10958904, 0.89285714],\n",
       "       [0.36986301, 0.53571429],\n",
       "       [0.06849315, 0.03571429],\n",
       "       [0.15068493, 0.07142857],\n",
       "       [0.5890411 , 0.25      ],\n",
       "       [0.19178082, 0.        ],\n",
       "       [0.39726027, 0.42857143],\n",
       "       [0.04109589, 0.        ],\n",
       "       [0.49315068, 0.5       ],\n",
       "       [0.34246575, 0.42857143],\n",
       "       [0.45205479, 0.5       ],\n",
       "       [0.7260274 , 0.28571429],\n",
       "       [0.02739726, 0.07142857],\n",
       "       [0.43835616, 0.57142857],\n",
       "       [0.60273973, 0.75      ],\n",
       "       [0.30136986, 0.5       ],\n",
       "       [0.84931507, 0.85714286],\n",
       "       [0.2739726 , 0.53571429],\n",
       "       [0.2739726 , 0.5       ],\n",
       "       [0.        , 0.10714286],\n",
       "       [0.83561644, 0.67857143]])"
      ]
     },
     "execution_count": 69,
     "metadata": {},
     "output_type": "execute_result"
    }
   ],
   "source": [
    "scaler = MinMaxScaler(feature_range=(0, 1)) \n",
    "rescaledX = scaler.fit_transform(student) \n",
    "rescaledX"
   ]
  },
  {
   "cell_type": "code",
   "execution_count": 70,
   "metadata": {},
   "outputs": [
    {
     "data": {
      "text/plain": [
       "array([0, 1, 0, 2, 4, 1, 0, 4, 0, 0, 2, 0, 1, 2, 4, 1, 1, 4, 1, 2, 4, 0,\n",
       "       1, 0, 1, 3, 1, 1, 4, 1, 3, 3, 0, 3, 1, 3, 1, 1, 1, 0, 3, 1, 0, 1,\n",
       "       2, 1, 1, 3, 2])"
      ]
     },
     "execution_count": 70,
     "metadata": {},
     "output_type": "execute_result"
    }
   ],
   "source": [
    "# import KMeans for clustering\n",
    "kmeans = KMeans(n_clusters = 5, init = 'k-means++', random_state = 42)\n",
    "y_kmeans = kmeans.fit_predict(student)\n",
    "y_kmeans"
   ]
  },
  {
   "cell_type": "code",
   "execution_count": 71,
   "metadata": {},
   "outputs": [],
   "source": [
    "X=np.array(student)"
   ]
  },
  {
   "cell_type": "code",
   "execution_count": 72,
   "metadata": {},
   "outputs": [
    {
     "data": {
      "text/plain": [
       "array([72., 77., 74., 69., 64., 70., 63., 60., 63., 73., 64.])"
      ]
     },
     "execution_count": 72,
     "metadata": {},
     "output_type": "execute_result"
    }
   ],
   "source": [
    "# Fit the input data. Create labels and get inertia\n",
    "X[y_kmeans==0,0]"
   ]
  },
  {
   "cell_type": "code",
   "execution_count": 73,
   "metadata": {},
   "outputs": [
    {
     "data": {
      "image/png": "[encoded data removed]",
      "text/plain": [
       "<Figure size 1080x576 with 1 Axes>"
      ]
     },
     "metadata": {
      "needs_background": "light"
     },
     "output_type": "display_data"
    }
   ],
   "source": [
    "# Visualise the clusters\n",
    "\n",
    "fig = plt.figure(figsize = (15,8))\n",
    "plt.scatter(X[y_kmeans==0,0],X[y_kmeans==0,1],s=100,c='magenta',label='Standard')\n",
    "plt.scatter(X[y_kmeans==1,0],X[y_kmeans==1,1],s=100,c='blue',label='Careful')\n",
    "plt.scatter(X[y_kmeans==2,0],X[y_kmeans==2,1],s=100,c='green',label='Sensible ')\n",
    "plt.scatter(X[y_kmeans==3,0],X[y_kmeans==3,1],s=100,c='black',label='Careless')\n",
    "plt.scatter(X[y_kmeans==4,0],X[y_kmeans==4,1],s=100,c='burlywood',label='Target')\n",
    "plt.scatter(kmeans.cluster_centers_[:,0],kmeans.cluster_centers_[:,1],s=200,c='red',label='Centroids')\n",
    "plt.title('Cluster of students')\n",
    "plt.xlabel('X')\n",
    "plt.ylabel('Y')\n",
    "plt.legend()\n",
    "plt.show()"
   ]
  },
  {
   "cell_type": "code",
   "execution_count": 74,
   "metadata": {},
   "outputs": [
    {
     "data": {
      "image/png": "[encoded data removed]",
      "text/plain": [
       "<Figure size 432x288 with 1 Axes>"
      ]
     },
     "metadata": {
      "needs_background": "light"
     },
     "output_type": "display_data"
    }
   ],
   "source": [
    "# Elbow method to determine optimum clusters\n",
    "wcss = []\n",
    "for i in range(1, 11):\n",
    "    kmeans = KMeans(n_clusters = i, init = 'k-means++', random_state = 42)\n",
    "    kmeans.fit(X)\n",
    "    wcss.append(kmeans.inertia_)\n",
    "plt.plot(range(1, 11), wcss)\n",
    "plt.title('The Elbow Method')\n",
    "plt.xlabel('Number of clusters')\n",
    "plt.ylabel('WCSS')\n",
    "plt.show()"
   ]
  }
 ],
 "metadata": {
  "kernelspec": {
   "display_name": "Python 3",
   "language": "python",
   "name": "python3"
  },
  "language_info": {
   "codemirror_mode": {
    "name": "ipython",
    "version": 3
   },
   "file_extension": ".py",
   "mimetype": "text/x-python",
   "name": "python",
   "nbconvert_exporter": "python",
   "pygments_lexer": "ipython3",
   "version": "3.8.3"
  }
 },
 "nbformat": 4,
 "nbformat_minor": 4
}
