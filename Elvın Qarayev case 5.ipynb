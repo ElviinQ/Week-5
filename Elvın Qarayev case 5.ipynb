{
 "cells": [
  {
   "cell_type": "markdown",
   "metadata": {},
   "source": [
    "### 1.Import numpy and pandas and load data file named 'test_Y3wMUE5_7gLdaTN.csv' as test\n",
    "\n"
   ]
  },
  {
   "cell_type": "code",
   "execution_count": 125,
   "metadata": {},
   "outputs": [],
   "source": [
    "%matplotlib inline\n",
    "\n",
    "import numpy as np\n",
    "import pandas as pd\n",
    "import seaborn as sns\n",
    "\n",
    "import matplotlib.pyplot as plt\n",
    "from matplotlib.colors import ListedColormap\n",
    "\n",
    "\n",
    "import warnings \n",
    "from sklearn.preprocessing import LabelEncoder\n",
    "from sklearn.preprocessing import StandardScaler, normalize\n",
    "\n",
    "from sklearn.cluster import KMeans\n",
    "\n",
    "import scipy.cluster.hierarchy as sch\n",
    "from scipy.cluster.hierarchy import linkage, dendrogram\n",
    "from sklearn.cluster import AgglomerativeClustering\n",
    "\n",
    "\n",
    "from sklearn.decomposition import PCA\n",
    "\n",
    "from sklearn.metrics import silhouette_score\n",
    "from sklearn.metrics import confusion_matrix\n",
    "from sklearn.metrics import accuracy_score\n",
    "\n",
    "from sklearn.model_selection import train_test_split\n",
    "from sklearn.linear_model import LogisticRegression"
   ]
  },
  {
   "cell_type": "code",
   "execution_count": 126,
   "metadata": {},
   "outputs": [
    {
     "data": {
      "text/html": [
       "<div>\n",
       "<style scoped>\n",
       "    .dataframe tbody tr th:only-of-type {\n",
       "        vertical-align: middle;\n",
       "    }\n",
       "\n",
       "    .dataframe tbody tr th {\n",
       "        vertical-align: top;\n",
       "    }\n",
       "\n",
       "    .dataframe thead th {\n",
       "        text-align: right;\n",
       "    }\n",
       "</style>\n",
       "<table border=\"1\" class=\"dataframe\">\n",
       "  <thead>\n",
       "    <tr style=\"text-align: right;\">\n",
       "      <th></th>\n",
       "      <th>Loan_ID</th>\n",
       "      <th>Gender</th>\n",
       "      <th>Married</th>\n",
       "      <th>Dependents</th>\n",
       "      <th>Education</th>\n",
       "      <th>Self_Employed</th>\n",
       "      <th>ApplicantIncome</th>\n",
       "      <th>CoapplicantIncome</th>\n",
       "      <th>LoanAmount</th>\n",
       "      <th>Loan_Amount_Term</th>\n",
       "      <th>Credit_History</th>\n",
       "      <th>Property_Area</th>\n",
       "    </tr>\n",
       "  </thead>\n",
       "  <tbody>\n",
       "    <tr>\n",
       "      <th>0</th>\n",
       "      <td>LP001015</td>\n",
       "      <td>Male</td>\n",
       "      <td>Yes</td>\n",
       "      <td>0</td>\n",
       "      <td>Graduate</td>\n",
       "      <td>No</td>\n",
       "      <td>5720</td>\n",
       "      <td>0</td>\n",
       "      <td>110.0</td>\n",
       "      <td>360.0</td>\n",
       "      <td>1.0</td>\n",
       "      <td>Urban</td>\n",
       "    </tr>\n",
       "    <tr>\n",
       "      <th>1</th>\n",
       "      <td>LP001022</td>\n",
       "      <td>Male</td>\n",
       "      <td>Yes</td>\n",
       "      <td>1</td>\n",
       "      <td>Graduate</td>\n",
       "      <td>No</td>\n",
       "      <td>3076</td>\n",
       "      <td>1500</td>\n",
       "      <td>126.0</td>\n",
       "      <td>360.0</td>\n",
       "      <td>1.0</td>\n",
       "      <td>Urban</td>\n",
       "    </tr>\n",
       "    <tr>\n",
       "      <th>2</th>\n",
       "      <td>LP001031</td>\n",
       "      <td>Male</td>\n",
       "      <td>Yes</td>\n",
       "      <td>2</td>\n",
       "      <td>Graduate</td>\n",
       "      <td>No</td>\n",
       "      <td>5000</td>\n",
       "      <td>1800</td>\n",
       "      <td>208.0</td>\n",
       "      <td>360.0</td>\n",
       "      <td>1.0</td>\n",
       "      <td>Urban</td>\n",
       "    </tr>\n",
       "    <tr>\n",
       "      <th>3</th>\n",
       "      <td>LP001035</td>\n",
       "      <td>Male</td>\n",
       "      <td>Yes</td>\n",
       "      <td>2</td>\n",
       "      <td>Graduate</td>\n",
       "      <td>No</td>\n",
       "      <td>2340</td>\n",
       "      <td>2546</td>\n",
       "      <td>100.0</td>\n",
       "      <td>360.0</td>\n",
       "      <td>NaN</td>\n",
       "      <td>Urban</td>\n",
       "    </tr>\n",
       "    <tr>\n",
       "      <th>4</th>\n",
       "      <td>LP001051</td>\n",
       "      <td>Male</td>\n",
       "      <td>No</td>\n",
       "      <td>0</td>\n",
       "      <td>Not Graduate</td>\n",
       "      <td>No</td>\n",
       "      <td>3276</td>\n",
       "      <td>0</td>\n",
       "      <td>78.0</td>\n",
       "      <td>360.0</td>\n",
       "      <td>1.0</td>\n",
       "      <td>Urban</td>\n",
       "    </tr>\n",
       "  </tbody>\n",
       "</table>\n",
       "</div>"
      ],
      "text/plain": [
       "    Loan_ID Gender Married Dependents     Education Self_Employed  \\\n",
       "0  LP001015   Male     Yes          0      Graduate            No   \n",
       "1  LP001022   Male     Yes          1      Graduate            No   \n",
       "2  LP001031   Male     Yes          2      Graduate            No   \n",
       "3  LP001035   Male     Yes          2      Graduate            No   \n",
       "4  LP001051   Male      No          0  Not Graduate            No   \n",
       "\n",
       "   ApplicantIncome  CoapplicantIncome  LoanAmount  Loan_Amount_Term  \\\n",
       "0             5720                  0       110.0             360.0   \n",
       "1             3076               1500       126.0             360.0   \n",
       "2             5000               1800       208.0             360.0   \n",
       "3             2340               2546       100.0             360.0   \n",
       "4             3276                  0        78.0             360.0   \n",
       "\n",
       "   Credit_History Property_Area  \n",
       "0             1.0         Urban  \n",
       "1             1.0         Urban  \n",
       "2             1.0         Urban  \n",
       "3             NaN         Urban  \n",
       "4             1.0         Urban  "
      ]
     },
     "execution_count": 126,
     "metadata": {},
     "output_type": "execute_result"
    }
   ],
   "source": [
    "data=pd.read_csv('test_Y3wMUE5_7gLdaTN.csv')\n",
    "data.head()"
   ]
  },
  {
   "cell_type": "markdown",
   "metadata": {},
   "source": [
    "### 2.Print list of column names\n"
   ]
  },
  {
   "cell_type": "code",
   "execution_count": 127,
   "metadata": {},
   "outputs": [
    {
     "data": {
      "text/plain": [
       "Index(['Loan_ID', 'Gender', 'Married', 'Dependents', 'Education',\n",
       "       'Self_Employed', 'ApplicantIncome', 'CoapplicantIncome', 'LoanAmount',\n",
       "       'Loan_Amount_Term', 'Credit_History', 'Property_Area'],\n",
       "      dtype='object')"
      ]
     },
     "execution_count": 127,
     "metadata": {},
     "output_type": "execute_result"
    }
   ],
   "source": [
    "data.columns"
   ]
  },
  {
   "cell_type": "markdown",
   "metadata": {},
   "source": [
    "### 3.Types of data columns\n"
   ]
  },
  {
   "cell_type": "code",
   "execution_count": 128,
   "metadata": {},
   "outputs": [
    {
     "data": {
      "text/plain": [
       "Loan_ID               object\n",
       "Gender                object\n",
       "Married               object\n",
       "Dependents            object\n",
       "Education             object\n",
       "Self_Employed         object\n",
       "ApplicantIncome        int64\n",
       "CoapplicantIncome      int64\n",
       "LoanAmount           float64\n",
       "Loan_Amount_Term     float64\n",
       "Credit_History       float64\n",
       "Property_Area         object\n",
       "dtype: object"
      ]
     },
     "execution_count": 128,
     "metadata": {},
     "output_type": "execute_result"
    }
   ],
   "source": [
    "data.dtypes"
   ]
  },
  {
   "cell_type": "markdown",
   "metadata": {},
   "source": [
    "### 4.Summary statistics\n"
   ]
  },
  {
   "cell_type": "code",
   "execution_count": 129,
   "metadata": {},
   "outputs": [
    {
     "data": {
      "text/html": [
       "<div>\n",
       "<style scoped>\n",
       "    .dataframe tbody tr th:only-of-type {\n",
       "        vertical-align: middle;\n",
       "    }\n",
       "\n",
       "    .dataframe tbody tr th {\n",
       "        vertical-align: top;\n",
       "    }\n",
       "\n",
       "    .dataframe thead th {\n",
       "        text-align: right;\n",
       "    }\n",
       "</style>\n",
       "<table border=\"1\" class=\"dataframe\">\n",
       "  <thead>\n",
       "    <tr style=\"text-align: right;\">\n",
       "      <th></th>\n",
       "      <th>ApplicantIncome</th>\n",
       "      <th>CoapplicantIncome</th>\n",
       "      <th>LoanAmount</th>\n",
       "      <th>Loan_Amount_Term</th>\n",
       "      <th>Credit_History</th>\n",
       "    </tr>\n",
       "  </thead>\n",
       "  <tbody>\n",
       "    <tr>\n",
       "      <th>count</th>\n",
       "      <td>367.000000</td>\n",
       "      <td>367.000000</td>\n",
       "      <td>362.000000</td>\n",
       "      <td>361.000000</td>\n",
       "      <td>338.000000</td>\n",
       "    </tr>\n",
       "    <tr>\n",
       "      <th>mean</th>\n",
       "      <td>4805.599455</td>\n",
       "      <td>1569.577657</td>\n",
       "      <td>136.132597</td>\n",
       "      <td>342.537396</td>\n",
       "      <td>0.825444</td>\n",
       "    </tr>\n",
       "    <tr>\n",
       "      <th>std</th>\n",
       "      <td>4910.685399</td>\n",
       "      <td>2334.232099</td>\n",
       "      <td>61.366652</td>\n",
       "      <td>65.156643</td>\n",
       "      <td>0.380150</td>\n",
       "    </tr>\n",
       "    <tr>\n",
       "      <th>min</th>\n",
       "      <td>0.000000</td>\n",
       "      <td>0.000000</td>\n",
       "      <td>28.000000</td>\n",
       "      <td>6.000000</td>\n",
       "      <td>0.000000</td>\n",
       "    </tr>\n",
       "    <tr>\n",
       "      <th>25%</th>\n",
       "      <td>2864.000000</td>\n",
       "      <td>0.000000</td>\n",
       "      <td>100.250000</td>\n",
       "      <td>360.000000</td>\n",
       "      <td>1.000000</td>\n",
       "    </tr>\n",
       "    <tr>\n",
       "      <th>50%</th>\n",
       "      <td>3786.000000</td>\n",
       "      <td>1025.000000</td>\n",
       "      <td>125.000000</td>\n",
       "      <td>360.000000</td>\n",
       "      <td>1.000000</td>\n",
       "    </tr>\n",
       "    <tr>\n",
       "      <th>75%</th>\n",
       "      <td>5060.000000</td>\n",
       "      <td>2430.500000</td>\n",
       "      <td>158.000000</td>\n",
       "      <td>360.000000</td>\n",
       "      <td>1.000000</td>\n",
       "    </tr>\n",
       "    <tr>\n",
       "      <th>max</th>\n",
       "      <td>72529.000000</td>\n",
       "      <td>24000.000000</td>\n",
       "      <td>550.000000</td>\n",
       "      <td>480.000000</td>\n",
       "      <td>1.000000</td>\n",
       "    </tr>\n",
       "  </tbody>\n",
       "</table>\n",
       "</div>"
      ],
      "text/plain": [
       "       ApplicantIncome  CoapplicantIncome  LoanAmount  Loan_Amount_Term  \\\n",
       "count       367.000000         367.000000  362.000000        361.000000   \n",
       "mean       4805.599455        1569.577657  136.132597        342.537396   \n",
       "std        4910.685399        2334.232099   61.366652         65.156643   \n",
       "min           0.000000           0.000000   28.000000          6.000000   \n",
       "25%        2864.000000           0.000000  100.250000        360.000000   \n",
       "50%        3786.000000        1025.000000  125.000000        360.000000   \n",
       "75%        5060.000000        2430.500000  158.000000        360.000000   \n",
       "max       72529.000000       24000.000000  550.000000        480.000000   \n",
       "\n",
       "       Credit_History  \n",
       "count      338.000000  \n",
       "mean         0.825444  \n",
       "std          0.380150  \n",
       "min          0.000000  \n",
       "25%          1.000000  \n",
       "50%          1.000000  \n",
       "75%          1.000000  \n",
       "max          1.000000  "
      ]
     },
     "execution_count": 129,
     "metadata": {},
     "output_type": "execute_result"
    }
   ],
   "source": [
    "data.describe()"
   ]
  },
  {
   "cell_type": "markdown",
   "metadata": {},
   "source": [
    "### DATA CLEANING AND PREPROCESSING"
   ]
  },
  {
   "cell_type": "markdown",
   "metadata": {},
   "source": [
    "### 5.Find missing values"
   ]
  },
  {
   "cell_type": "code",
   "execution_count": 130,
   "metadata": {},
   "outputs": [
    {
     "data": {
      "text/plain": [
       "Loan_ID               0\n",
       "Gender               11\n",
       "Married               0\n",
       "Dependents           10\n",
       "Education             0\n",
       "Self_Employed        23\n",
       "ApplicantIncome       0\n",
       "CoapplicantIncome     0\n",
       "LoanAmount            5\n",
       "Loan_Amount_Term      6\n",
       "Credit_History       29\n",
       "Property_Area         0\n",
       "dtype: int64"
      ]
     },
     "execution_count": 130,
     "metadata": {},
     "output_type": "execute_result"
    }
   ],
   "source": [
    "data.isnull().sum()"
   ]
  },
  {
   "cell_type": "code",
   "execution_count": 131,
   "metadata": {},
   "outputs": [
    {
     "data": {
      "text/plain": [
       "Loan_ID               object\n",
       "Gender                object\n",
       "Married               object\n",
       "Dependents            object\n",
       "Education             object\n",
       "Self_Employed         object\n",
       "ApplicantIncome        int64\n",
       "CoapplicantIncome      int64\n",
       "LoanAmount           float64\n",
       "Loan_Amount_Term     float64\n",
       "Credit_History       float64\n",
       "Property_Area         object\n",
       "dtype: object"
      ]
     },
     "execution_count": 131,
     "metadata": {},
     "output_type": "execute_result"
    }
   ],
   "source": [
    "data.dtypes"
   ]
  },
  {
   "cell_type": "markdown",
   "metadata": {},
   "source": [
    "### 6.Impute missing values with mean (numerical variables)\n"
   ]
  },
  {
   "cell_type": "code",
   "execution_count": 132,
   "metadata": {},
   "outputs": [],
   "source": [
    "data['LoanAmount'].fillna(data['LoanAmount'].mean(), inplace=True)"
   ]
  },
  {
   "cell_type": "code",
   "execution_count": 133,
   "metadata": {},
   "outputs": [],
   "source": [
    "data['Loan_Amount_Term'].fillna(data['Loan_Amount_Term'].mean(), inplace=True)"
   ]
  },
  {
   "cell_type": "code",
   "execution_count": 134,
   "metadata": {},
   "outputs": [],
   "source": [
    "data['Credit_History'].fillna(data['Credit_History'].mean(), inplace=True)"
   ]
  },
  {
   "cell_type": "code",
   "execution_count": 135,
   "metadata": {},
   "outputs": [
    {
     "data": {
      "text/plain": [
       "Loan_ID               0\n",
       "Gender               11\n",
       "Married               0\n",
       "Dependents           10\n",
       "Education             0\n",
       "Self_Employed        23\n",
       "ApplicantIncome       0\n",
       "CoapplicantIncome     0\n",
       "LoanAmount            0\n",
       "Loan_Amount_Term      0\n",
       "Credit_History        0\n",
       "Property_Area         0\n",
       "dtype: int64"
      ]
     },
     "execution_count": 135,
     "metadata": {},
     "output_type": "execute_result"
    }
   ],
   "source": [
    "data.isnull().sum()"
   ]
  },
  {
   "cell_type": "markdown",
   "metadata": {},
   "source": [
    "### 7.Impute missing values with mode (categorical variables)\n"
   ]
  },
  {
   "cell_type": "code",
   "execution_count": 136,
   "metadata": {},
   "outputs": [],
   "source": [
    "data['Gender'].fillna(data['Gender'].mode().iloc[0], inplace=True)"
   ]
  },
  {
   "cell_type": "code",
   "execution_count": 137,
   "metadata": {},
   "outputs": [],
   "source": [
    "data['Dependents'].fillna(data['Dependents'].mode().iloc[0], inplace=True)"
   ]
  },
  {
   "cell_type": "code",
   "execution_count": 138,
   "metadata": {},
   "outputs": [],
   "source": [
    "data['Self_Employed'].fillna(data['Self_Employed'].mode().iloc[0], inplace=True)"
   ]
  },
  {
   "cell_type": "code",
   "execution_count": 139,
   "metadata": {},
   "outputs": [
    {
     "data": {
      "text/plain": [
       "Loan_ID              0\n",
       "Gender               0\n",
       "Married              0\n",
       "Dependents           0\n",
       "Education            0\n",
       "Self_Employed        0\n",
       "ApplicantIncome      0\n",
       "CoapplicantIncome    0\n",
       "LoanAmount           0\n",
       "Loan_Amount_Term     0\n",
       "Credit_History       0\n",
       "Property_Area        0\n",
       "dtype: int64"
      ]
     },
     "execution_count": 139,
     "metadata": {},
     "output_type": "execute_result"
    }
   ],
   "source": [
    "data.isnull().sum()"
   ]
  },
  {
   "cell_type": "markdown",
   "metadata": {},
   "source": [
    "### 8.Remove irrelevant columns Loan_ID variable - Irrelevant from test and train data\n",
    "\n"
   ]
  },
  {
   "cell_type": "code",
   "execution_count": 140,
   "metadata": {},
   "outputs": [],
   "source": [
    "data.drop('Loan_ID', axis=1, inplace=True)"
   ]
  },
  {
   "cell_type": "code",
   "execution_count": 141,
   "metadata": {},
   "outputs": [
    {
     "data": {
      "text/html": [
       "<div>\n",
       "<style scoped>\n",
       "    .dataframe tbody tr th:only-of-type {\n",
       "        vertical-align: middle;\n",
       "    }\n",
       "\n",
       "    .dataframe tbody tr th {\n",
       "        vertical-align: top;\n",
       "    }\n",
       "\n",
       "    .dataframe thead th {\n",
       "        text-align: right;\n",
       "    }\n",
       "</style>\n",
       "<table border=\"1\" class=\"dataframe\">\n",
       "  <thead>\n",
       "    <tr style=\"text-align: right;\">\n",
       "      <th></th>\n",
       "      <th>Gender</th>\n",
       "      <th>Married</th>\n",
       "      <th>Dependents</th>\n",
       "      <th>Education</th>\n",
       "      <th>Self_Employed</th>\n",
       "      <th>ApplicantIncome</th>\n",
       "      <th>CoapplicantIncome</th>\n",
       "      <th>LoanAmount</th>\n",
       "      <th>Loan_Amount_Term</th>\n",
       "      <th>Credit_History</th>\n",
       "      <th>Property_Area</th>\n",
       "    </tr>\n",
       "  </thead>\n",
       "  <tbody>\n",
       "    <tr>\n",
       "      <th>0</th>\n",
       "      <td>Male</td>\n",
       "      <td>Yes</td>\n",
       "      <td>0</td>\n",
       "      <td>Graduate</td>\n",
       "      <td>No</td>\n",
       "      <td>5720</td>\n",
       "      <td>0</td>\n",
       "      <td>110.0</td>\n",
       "      <td>360.0</td>\n",
       "      <td>1.000000</td>\n",
       "      <td>Urban</td>\n",
       "    </tr>\n",
       "    <tr>\n",
       "      <th>1</th>\n",
       "      <td>Male</td>\n",
       "      <td>Yes</td>\n",
       "      <td>1</td>\n",
       "      <td>Graduate</td>\n",
       "      <td>No</td>\n",
       "      <td>3076</td>\n",
       "      <td>1500</td>\n",
       "      <td>126.0</td>\n",
       "      <td>360.0</td>\n",
       "      <td>1.000000</td>\n",
       "      <td>Urban</td>\n",
       "    </tr>\n",
       "    <tr>\n",
       "      <th>2</th>\n",
       "      <td>Male</td>\n",
       "      <td>Yes</td>\n",
       "      <td>2</td>\n",
       "      <td>Graduate</td>\n",
       "      <td>No</td>\n",
       "      <td>5000</td>\n",
       "      <td>1800</td>\n",
       "      <td>208.0</td>\n",
       "      <td>360.0</td>\n",
       "      <td>1.000000</td>\n",
       "      <td>Urban</td>\n",
       "    </tr>\n",
       "    <tr>\n",
       "      <th>3</th>\n",
       "      <td>Male</td>\n",
       "      <td>Yes</td>\n",
       "      <td>2</td>\n",
       "      <td>Graduate</td>\n",
       "      <td>No</td>\n",
       "      <td>2340</td>\n",
       "      <td>2546</td>\n",
       "      <td>100.0</td>\n",
       "      <td>360.0</td>\n",
       "      <td>0.825444</td>\n",
       "      <td>Urban</td>\n",
       "    </tr>\n",
       "    <tr>\n",
       "      <th>4</th>\n",
       "      <td>Male</td>\n",
       "      <td>No</td>\n",
       "      <td>0</td>\n",
       "      <td>Not Graduate</td>\n",
       "      <td>No</td>\n",
       "      <td>3276</td>\n",
       "      <td>0</td>\n",
       "      <td>78.0</td>\n",
       "      <td>360.0</td>\n",
       "      <td>1.000000</td>\n",
       "      <td>Urban</td>\n",
       "    </tr>\n",
       "  </tbody>\n",
       "</table>\n",
       "</div>"
      ],
      "text/plain": [
       "  Gender Married Dependents     Education Self_Employed  ApplicantIncome  \\\n",
       "0   Male     Yes          0      Graduate            No             5720   \n",
       "1   Male     Yes          1      Graduate            No             3076   \n",
       "2   Male     Yes          2      Graduate            No             5000   \n",
       "3   Male     Yes          2      Graduate            No             2340   \n",
       "4   Male      No          0  Not Graduate            No             3276   \n",
       "\n",
       "   CoapplicantIncome  LoanAmount  Loan_Amount_Term  Credit_History  \\\n",
       "0                  0       110.0             360.0        1.000000   \n",
       "1               1500       126.0             360.0        1.000000   \n",
       "2               1800       208.0             360.0        1.000000   \n",
       "3               2546       100.0             360.0        0.825444   \n",
       "4                  0        78.0             360.0        1.000000   \n",
       "\n",
       "  Property_Area  \n",
       "0         Urban  \n",
       "1         Urban  \n",
       "2         Urban  \n",
       "3         Urban  \n",
       "4         Urban  "
      ]
     },
     "execution_count": 141,
     "metadata": {},
     "output_type": "execute_result"
    }
   ],
   "source": [
    "data.head()"
   ]
  },
  {
   "cell_type": "markdown",
   "metadata": {},
   "source": [
    "### 9.Build dummy variables for categorical variables\n",
    "\n"
   ]
  },
  {
   "cell_type": "code",
   "execution_count": 142,
   "metadata": {},
   "outputs": [
    {
     "data": {
      "text/html": [
       "<div>\n",
       "<style scoped>\n",
       "    .dataframe tbody tr th:only-of-type {\n",
       "        vertical-align: middle;\n",
       "    }\n",
       "\n",
       "    .dataframe tbody tr th {\n",
       "        vertical-align: top;\n",
       "    }\n",
       "\n",
       "    .dataframe thead th {\n",
       "        text-align: right;\n",
       "    }\n",
       "</style>\n",
       "<table border=\"1\" class=\"dataframe\">\n",
       "  <thead>\n",
       "    <tr style=\"text-align: right;\">\n",
       "      <th></th>\n",
       "      <th>ApplicantIncome</th>\n",
       "      <th>CoapplicantIncome</th>\n",
       "      <th>LoanAmount</th>\n",
       "      <th>Loan_Amount_Term</th>\n",
       "      <th>Credit_History</th>\n",
       "      <th>Male</th>\n",
       "      <th>Not Graduate</th>\n",
       "      <th>Semiurban</th>\n",
       "      <th>Urban</th>\n",
       "    </tr>\n",
       "  </thead>\n",
       "  <tbody>\n",
       "    <tr>\n",
       "      <th>0</th>\n",
       "      <td>5720</td>\n",
       "      <td>0</td>\n",
       "      <td>110.0</td>\n",
       "      <td>360.0</td>\n",
       "      <td>1.000000</td>\n",
       "      <td>1</td>\n",
       "      <td>0</td>\n",
       "      <td>0</td>\n",
       "      <td>1</td>\n",
       "    </tr>\n",
       "    <tr>\n",
       "      <th>1</th>\n",
       "      <td>3076</td>\n",
       "      <td>1500</td>\n",
       "      <td>126.0</td>\n",
       "      <td>360.0</td>\n",
       "      <td>1.000000</td>\n",
       "      <td>1</td>\n",
       "      <td>0</td>\n",
       "      <td>0</td>\n",
       "      <td>1</td>\n",
       "    </tr>\n",
       "    <tr>\n",
       "      <th>2</th>\n",
       "      <td>5000</td>\n",
       "      <td>1800</td>\n",
       "      <td>208.0</td>\n",
       "      <td>360.0</td>\n",
       "      <td>1.000000</td>\n",
       "      <td>1</td>\n",
       "      <td>0</td>\n",
       "      <td>0</td>\n",
       "      <td>1</td>\n",
       "    </tr>\n",
       "    <tr>\n",
       "      <th>3</th>\n",
       "      <td>2340</td>\n",
       "      <td>2546</td>\n",
       "      <td>100.0</td>\n",
       "      <td>360.0</td>\n",
       "      <td>0.825444</td>\n",
       "      <td>1</td>\n",
       "      <td>0</td>\n",
       "      <td>0</td>\n",
       "      <td>1</td>\n",
       "    </tr>\n",
       "    <tr>\n",
       "      <th>4</th>\n",
       "      <td>3276</td>\n",
       "      <td>0</td>\n",
       "      <td>78.0</td>\n",
       "      <td>360.0</td>\n",
       "      <td>1.000000</td>\n",
       "      <td>1</td>\n",
       "      <td>1</td>\n",
       "      <td>0</td>\n",
       "      <td>1</td>\n",
       "    </tr>\n",
       "  </tbody>\n",
       "</table>\n",
       "</div>"
      ],
      "text/plain": [
       "   ApplicantIncome  CoapplicantIncome  LoanAmount  Loan_Amount_Term  \\\n",
       "0             5720                  0       110.0             360.0   \n",
       "1             3076               1500       126.0             360.0   \n",
       "2             5000               1800       208.0             360.0   \n",
       "3             2340               2546       100.0             360.0   \n",
       "4             3276                  0        78.0             360.0   \n",
       "\n",
       "   Credit_History  Male  Not Graduate  Semiurban  Urban  \n",
       "0        1.000000     1             0          0      1  \n",
       "1        1.000000     1             0          0      1  \n",
       "2        1.000000     1             0          0      1  \n",
       "3        0.825444     1             0          0      1  \n",
       "4        1.000000     1             1          0      1  "
      ]
     },
     "execution_count": 142,
     "metadata": {},
     "output_type": "execute_result"
    }
   ],
   "source": [
    "Gender = pd.get_dummies(data['Gender'],drop_first=True)\n",
    "Education = pd.get_dummies(data['Education'],drop_first=True)\n",
    "Property_Area = pd.get_dummies(data['Property_Area'],drop_first=True)\n",
    "data.drop(['Gender','Education','Property_Area', 'Married','Self_Employed', 'Dependents'],axis=1,inplace=True)\n",
    "data = pd.concat([data,Gender,Education,Property_Area,],axis=1)\n",
    "data.head()"
   ]
  },
  {
   "cell_type": "markdown",
   "metadata": {},
   "source": [
    "### 10.Get x as columns of ApplicantIncome and Credit_History\n"
   ]
  },
  {
   "cell_type": "code",
   "execution_count": 143,
   "metadata": {},
   "outputs": [],
   "source": [
    "X=data[['ApplicantIncome', 'Credit_History']]"
   ]
  },
  {
   "cell_type": "code",
   "execution_count": 144,
   "metadata": {},
   "outputs": [
    {
     "data": {
      "text/plain": [
       "array([[5.72000000e+03, 1.00000000e+00],\n",
       "       [3.07600000e+03, 1.00000000e+00],\n",
       "       [5.00000000e+03, 1.00000000e+00],\n",
       "       [2.34000000e+03, 8.25443787e-01],\n",
       "       [3.27600000e+03, 1.00000000e+00],\n",
       "       [2.16500000e+03, 1.00000000e+00],\n",
       "       [2.22600000e+03, 1.00000000e+00],\n",
       "       [3.88100000e+03, 0.00000000e+00],\n",
       "       [1.36330000e+04, 1.00000000e+00],\n",
       "       [2.40000000e+03, 1.00000000e+00],\n",
       "       [3.09100000e+03, 1.00000000e+00],\n",
       "       [2.18500000e+03, 1.00000000e+00],\n",
       "       [4.16600000e+03, 8.25443787e-01],\n",
       "       [1.21730000e+04, 0.00000000e+00],\n",
       "       [4.66600000e+03, 1.00000000e+00],\n",
       "       [5.66700000e+03, 1.00000000e+00],\n",
       "       [4.58300000e+03, 1.00000000e+00],\n",
       "       [3.78600000e+03, 1.00000000e+00],\n",
       "       [9.22600000e+03, 1.00000000e+00],\n",
       "       [1.30000000e+03, 1.00000000e+00],\n",
       "       [1.88800000e+03, 1.00000000e+00],\n",
       "       [2.08300000e+03, 1.00000000e+00],\n",
       "       [3.90900000e+03, 1.00000000e+00],\n",
       "       [3.76500000e+03, 1.00000000e+00],\n",
       "       [5.40000000e+03, 1.00000000e+00],\n",
       "       [0.00000000e+00, 0.00000000e+00],\n",
       "       [4.36300000e+03, 8.25443787e-01],\n",
       "       [7.50000000e+03, 1.00000000e+00],\n",
       "       [3.77200000e+03, 8.25443787e-01],\n",
       "       [2.94200000e+03, 1.00000000e+00],\n",
       "       [2.47800000e+03, 1.00000000e+00],\n",
       "       [6.25000000e+03, 1.00000000e+00],\n",
       "       [3.26800000e+03, 1.00000000e+00],\n",
       "       [2.78300000e+03, 1.00000000e+00],\n",
       "       [2.74000000e+03, 1.00000000e+00],\n",
       "       [3.15000000e+03, 0.00000000e+00],\n",
       "       [7.35000000e+03, 1.00000000e+00],\n",
       "       [2.26700000e+03, 1.00000000e+00],\n",
       "       [5.83300000e+03, 1.00000000e+00],\n",
       "       [3.64300000e+03, 1.00000000e+00],\n",
       "       [5.62900000e+03, 1.00000000e+00],\n",
       "       [3.64400000e+03, 1.00000000e+00],\n",
       "       [1.75000000e+03, 1.00000000e+00],\n",
       "       [6.50000000e+03, 1.00000000e+00],\n",
       "       [3.66600000e+03, 1.00000000e+00],\n",
       "       [4.26000000e+03, 8.25443787e-01],\n",
       "       [4.16300000e+03, 1.00000000e+00],\n",
       "       [2.35600000e+03, 1.00000000e+00],\n",
       "       [6.79200000e+03, 1.00000000e+00],\n",
       "       [8.00000000e+03, 1.00000000e+00],\n",
       "       [2.41900000e+03, 1.00000000e+00],\n",
       "       [3.50000000e+03, 1.00000000e+00],\n",
       "       [3.50000000e+03, 1.00000000e+00],\n",
       "       [4.11600000e+03, 1.00000000e+00],\n",
       "       [5.29300000e+03, 1.00000000e+00],\n",
       "       [2.75000000e+03, 0.00000000e+00],\n",
       "       [4.40200000e+03, 1.00000000e+00],\n",
       "       [3.61300000e+03, 1.00000000e+00],\n",
       "       [2.77900000e+03, 0.00000000e+00],\n",
       "       [4.72000000e+03, 1.00000000e+00],\n",
       "       [2.41500000e+03, 1.00000000e+00],\n",
       "       [7.01600000e+03, 1.00000000e+00],\n",
       "       [4.96800000e+03, 1.00000000e+00],\n",
       "       [2.10100000e+03, 0.00000000e+00],\n",
       "       [4.49000000e+03, 1.00000000e+00],\n",
       "       [2.91700000e+03, 1.00000000e+00],\n",
       "       [4.70000000e+03, 0.00000000e+00],\n",
       "       [3.44500000e+03, 0.00000000e+00],\n",
       "       [7.66600000e+03, 1.00000000e+00],\n",
       "       [2.45800000e+03, 0.00000000e+00],\n",
       "       [3.25000000e+03, 1.00000000e+00],\n",
       "       [4.46300000e+03, 1.00000000e+00],\n",
       "       [4.08300000e+03, 1.00000000e+00],\n",
       "       [3.90000000e+03, 1.00000000e+00],\n",
       "       [4.75000000e+03, 1.00000000e+00],\n",
       "       [3.58300000e+03, 1.00000000e+00],\n",
       "       [3.18900000e+03, 1.00000000e+00],\n",
       "       [6.35600000e+03, 1.00000000e+00],\n",
       "       [3.41300000e+03, 1.00000000e+00],\n",
       "       [7.95000000e+03, 1.00000000e+00],\n",
       "       [3.82900000e+03, 0.00000000e+00],\n",
       "       [7.25290000e+04, 1.00000000e+00],\n",
       "       [4.13600000e+03, 0.00000000e+00],\n",
       "       [8.44900000e+03, 1.00000000e+00],\n",
       "       [4.45600000e+03, 0.00000000e+00],\n",
       "       [4.63500000e+03, 1.00000000e+00],\n",
       "       [3.57100000e+03, 1.00000000e+00],\n",
       "       [3.06600000e+03, 1.00000000e+00],\n",
       "       [3.23500000e+03, 1.00000000e+00],\n",
       "       [5.05800000e+03, 1.00000000e+00],\n",
       "       [3.18800000e+03, 8.25443787e-01],\n",
       "       [1.35180000e+04, 1.00000000e+00],\n",
       "       [4.36400000e+03, 1.00000000e+00],\n",
       "       [4.76600000e+03, 1.00000000e+00],\n",
       "       [4.60900000e+03, 0.00000000e+00],\n",
       "       [6.26000000e+03, 1.00000000e+00],\n",
       "       [3.33300000e+03, 1.00000000e+00],\n",
       "       [3.50000000e+03, 1.00000000e+00],\n",
       "       [9.71900000e+03, 1.00000000e+00],\n",
       "       [6.83500000e+03, 8.25443787e-01],\n",
       "       [4.45200000e+03, 1.00000000e+00],\n",
       "       [2.26200000e+03, 0.00000000e+00],\n",
       "       [3.90100000e+03, 1.00000000e+00],\n",
       "       [2.68700000e+03, 1.00000000e+00],\n",
       "       [2.24300000e+03, 8.25443787e-01],\n",
       "       [3.41700000e+03, 1.00000000e+00],\n",
       "       [1.59600000e+03, 0.00000000e+00],\n",
       "       [4.51300000e+03, 1.00000000e+00],\n",
       "       [4.50000000e+03, 1.00000000e+00],\n",
       "       [4.52300000e+03, 1.00000000e+00],\n",
       "       [4.74200000e+03, 1.00000000e+00],\n",
       "       [4.08200000e+03, 1.00000000e+00],\n",
       "       [3.41700000e+03, 1.00000000e+00],\n",
       "       [2.92200000e+03, 1.00000000e+00],\n",
       "       [4.16700000e+03, 1.00000000e+00],\n",
       "       [4.24300000e+03, 8.25443787e-01],\n",
       "       [0.00000000e+00, 1.00000000e+00],\n",
       "       [1.51600000e+03, 0.00000000e+00],\n",
       "       [1.76200000e+03, 0.00000000e+00],\n",
       "       [7.24000000e+02, 0.00000000e+00],\n",
       "       [3.12500000e+03, 1.00000000e+00],\n",
       "       [2.33300000e+03, 1.00000000e+00],\n",
       "       [3.35000000e+03, 1.00000000e+00],\n",
       "       [2.50000000e+03, 0.00000000e+00],\n",
       "       [1.25000000e+04, 0.00000000e+00],\n",
       "       [4.66700000e+03, 1.00000000e+00],\n",
       "       [6.50000000e+03, 0.00000000e+00],\n",
       "       [7.50000000e+03, 1.00000000e+00],\n",
       "       [3.07300000e+03, 1.00000000e+00],\n",
       "       [3.32100000e+03, 1.00000000e+00],\n",
       "       [3.33300000e+03, 1.00000000e+00],\n",
       "       [3.39100000e+03, 1.00000000e+00],\n",
       "       [3.34300000e+03, 1.00000000e+00],\n",
       "       [3.62000000e+03, 1.00000000e+00],\n",
       "       [4.00000000e+03, 1.00000000e+00],\n",
       "       [4.25800000e+03, 1.00000000e+00],\n",
       "       [4.50000000e+03, 1.00000000e+00],\n",
       "       [2.01400000e+03, 1.00000000e+00],\n",
       "       [3.33300000e+03, 1.00000000e+00],\n",
       "       [4.08300000e+03, 8.25443787e-01],\n",
       "       [4.72700000e+03, 0.00000000e+00],\n",
       "       [3.08900000e+03, 1.00000000e+00],\n",
       "       [6.79400000e+03, 0.00000000e+00],\n",
       "       [3.20000000e+04, 8.25443787e-01],\n",
       "       [1.08900000e+04, 1.00000000e+00],\n",
       "       [1.29410000e+04, 1.00000000e+00],\n",
       "       [3.27600000e+03, 1.00000000e+00],\n",
       "       [8.70300000e+03, 0.00000000e+00],\n",
       "       [4.74200000e+03, 1.00000000e+00],\n",
       "       [5.90000000e+03, 1.00000000e+00],\n",
       "       [3.07100000e+03, 1.00000000e+00],\n",
       "       [2.78300000e+03, 1.00000000e+00],\n",
       "       [5.00000000e+03, 1.00000000e+00],\n",
       "       [2.46300000e+03, 0.00000000e+00],\n",
       "       [4.85500000e+03, 1.00000000e+00],\n",
       "       [1.59900000e+03, 1.00000000e+00],\n",
       "       [4.24600000e+03, 1.00000000e+00],\n",
       "       [4.33300000e+03, 1.00000000e+00],\n",
       "       [5.82300000e+03, 1.00000000e+00],\n",
       "       [7.89500000e+03, 1.00000000e+00],\n",
       "       [4.15000000e+03, 1.00000000e+00],\n",
       "       [2.96400000e+03, 0.00000000e+00],\n",
       "       [5.58300000e+03, 1.00000000e+00],\n",
       "       [2.70800000e+03, 1.00000000e+00],\n",
       "       [3.18000000e+03, 8.25443787e-01],\n",
       "       [2.26800000e+03, 0.00000000e+00],\n",
       "       [1.14100000e+03, 0.00000000e+00],\n",
       "       [3.04200000e+03, 1.00000000e+00],\n",
       "       [1.75000000e+03, 0.00000000e+00],\n",
       "       [3.56400000e+03, 1.00000000e+00],\n",
       "       [3.95800000e+03, 1.00000000e+00],\n",
       "       [4.48300000e+03, 1.00000000e+00],\n",
       "       [5.22500000e+03, 1.00000000e+00],\n",
       "       [3.01700000e+03, 0.00000000e+00],\n",
       "       [2.43100000e+03, 0.00000000e+00],\n",
       "       [4.91200000e+03, 1.00000000e+00],\n",
       "       [2.50000000e+03, 1.00000000e+00],\n",
       "       [2.91800000e+03, 8.25443787e-01],\n",
       "       [5.12800000e+03, 1.00000000e+00],\n",
       "       [1.53120000e+04, 8.25443787e-01],\n",
       "       [3.95800000e+03, 1.00000000e+00],\n",
       "       [4.33400000e+03, 1.00000000e+00],\n",
       "       [4.35800000e+03, 1.00000000e+00],\n",
       "       [4.00000000e+03, 1.00000000e+00],\n",
       "       [1.01660000e+04, 1.00000000e+00],\n",
       "       [4.48300000e+03, 8.25443787e-01],\n",
       "       [4.52100000e+03, 1.00000000e+00],\n",
       "       [9.16700000e+03, 1.00000000e+00],\n",
       "       [1.30830000e+04, 1.00000000e+00],\n",
       "       [7.87400000e+03, 1.00000000e+00],\n",
       "       [4.33300000e+03, 1.00000000e+00],\n",
       "       [4.08300000e+03, 1.00000000e+00],\n",
       "       [3.78500000e+03, 0.00000000e+00],\n",
       "       [2.65400000e+03, 0.00000000e+00],\n",
       "       [1.00000000e+04, 1.00000000e+00],\n",
       "       [5.83300000e+03, 1.00000000e+00],\n",
       "       [4.79600000e+03, 0.00000000e+00],\n",
       "       [2.00000000e+03, 1.00000000e+00],\n",
       "       [2.54000000e+03, 0.00000000e+00],\n",
       "       [1.90000000e+03, 1.00000000e+00],\n",
       "       [8.70600000e+03, 1.00000000e+00],\n",
       "       [2.85500000e+03, 1.00000000e+00],\n",
       "       [3.01600000e+03, 8.25443787e-01],\n",
       "       [3.15900000e+03, 1.00000000e+00],\n",
       "       [1.93700000e+03, 1.00000000e+00],\n",
       "       [2.61300000e+03, 1.00000000e+00],\n",
       "       [4.96000000e+03, 1.00000000e+00],\n",
       "       [3.07400000e+03, 1.00000000e+00],\n",
       "       [4.21300000e+03, 1.00000000e+00],\n",
       "       [2.03800000e+03, 1.00000000e+00],\n",
       "       [2.36200000e+03, 1.00000000e+00],\n",
       "       [5.33300000e+03, 0.00000000e+00],\n",
       "       [5.38400000e+03, 1.00000000e+00],\n",
       "       [5.70800000e+03, 1.00000000e+00],\n",
       "       [3.75400000e+03, 1.00000000e+00],\n",
       "       [2.91400000e+03, 1.00000000e+00],\n",
       "       [2.74700000e+03, 1.00000000e+00],\n",
       "       [7.83000000e+03, 1.00000000e+00],\n",
       "       [3.50700000e+03, 1.00000000e+00],\n",
       "       [3.74700000e+03, 1.00000000e+00],\n",
       "       [2.16600000e+03, 8.25443787e-01],\n",
       "       [3.50000000e+03, 1.00000000e+00],\n",
       "       [2.89600000e+03, 1.00000000e+00],\n",
       "       [5.06200000e+03, 1.00000000e+00],\n",
       "       [5.18400000e+03, 0.00000000e+00],\n",
       "       [2.54500000e+03, 1.00000000e+00],\n",
       "       [2.55300000e+03, 1.00000000e+00],\n",
       "       [3.43600000e+03, 1.00000000e+00],\n",
       "       [2.41200000e+03, 1.00000000e+00],\n",
       "       [5.18000000e+03, 0.00000000e+00],\n",
       "       [1.49110000e+04, 1.00000000e+00],\n",
       "       [2.86000000e+03, 1.00000000e+00],\n",
       "       [1.17300000e+03, 1.00000000e+00],\n",
       "       [7.60000000e+03, 1.00000000e+00],\n",
       "       [2.15700000e+03, 1.00000000e+00],\n",
       "       [2.23100000e+03, 0.00000000e+00],\n",
       "       [2.27400000e+03, 0.00000000e+00],\n",
       "       [6.16600000e+03, 1.00000000e+00],\n",
       "       [2.51300000e+03, 1.00000000e+00],\n",
       "       [4.33300000e+03, 1.00000000e+00],\n",
       "       [3.84400000e+03, 1.00000000e+00],\n",
       "       [3.88700000e+03, 0.00000000e+00],\n",
       "       [3.51000000e+03, 1.00000000e+00],\n",
       "       [2.53900000e+03, 0.00000000e+00],\n",
       "       [2.10700000e+03, 1.00000000e+00],\n",
       "       [3.18600000e+03, 0.00000000e+00],\n",
       "       [5.00000000e+03, 1.00000000e+00],\n",
       "       [1.00000000e+04, 1.00000000e+00],\n",
       "       [3.94300000e+03, 1.00000000e+00],\n",
       "       [2.92500000e+03, 1.00000000e+00],\n",
       "       [3.24200000e+03, 0.00000000e+00],\n",
       "       [3.86300000e+03, 1.00000000e+00],\n",
       "       [4.02800000e+03, 1.00000000e+00],\n",
       "       [4.01000000e+03, 1.00000000e+00],\n",
       "       [3.71900000e+03, 1.00000000e+00],\n",
       "       [2.85800000e+03, 0.00000000e+00],\n",
       "       [3.83300000e+03, 1.00000000e+00],\n",
       "       [3.33300000e+03, 1.00000000e+00],\n",
       "       [3.00700000e+03, 1.00000000e+00],\n",
       "       [1.85000000e+03, 8.25443787e-01],\n",
       "       [2.79200000e+03, 1.00000000e+00],\n",
       "       [2.98200000e+03, 1.00000000e+00],\n",
       "       [3.41700000e+03, 8.25443787e-01],\n",
       "       [1.88400000e+04, 1.00000000e+00],\n",
       "       [2.99500000e+03, 1.00000000e+00],\n",
       "       [3.57900000e+03, 8.25443787e-01],\n",
       "       [3.83500000e+03, 0.00000000e+00],\n",
       "       [3.85400000e+03, 1.00000000e+00],\n",
       "       [5.83300000e+03, 0.00000000e+00],\n",
       "       [3.50800000e+03, 1.00000000e+00],\n",
       "       [1.63500000e+03, 1.00000000e+00],\n",
       "       [3.33300000e+03, 1.00000000e+00],\n",
       "       [2.47970000e+04, 1.00000000e+00],\n",
       "       [5.66700000e+03, 0.00000000e+00],\n",
       "       [3.50000000e+03, 0.00000000e+00],\n",
       "       [2.77300000e+03, 1.00000000e+00],\n",
       "       [6.50000000e+03, 1.00000000e+00],\n",
       "       [5.76900000e+03, 1.00000000e+00],\n",
       "       [3.63400000e+03, 0.00000000e+00],\n",
       "       [2.91670000e+04, 1.00000000e+00],\n",
       "       [2.16600000e+03, 1.00000000e+00],\n",
       "       [5.00000000e+03, 1.00000000e+00],\n",
       "       [5.53000000e+03, 8.25443787e-01],\n",
       "       [9.00000000e+03, 1.00000000e+00],\n",
       "       [1.00000000e+04, 1.00000000e+00],\n",
       "       [8.75000000e+03, 1.00000000e+00],\n",
       "       [2.15700000e+03, 8.25443787e-01],\n",
       "       [1.97200000e+03, 1.00000000e+00],\n",
       "       [4.98300000e+03, 1.00000000e+00],\n",
       "       [8.33300000e+03, 1.00000000e+00],\n",
       "       [3.66700000e+03, 1.00000000e+00],\n",
       "       [3.16600000e+03, 1.00000000e+00],\n",
       "       [3.27100000e+03, 1.00000000e+00],\n",
       "       [2.24100000e+03, 0.00000000e+00],\n",
       "       [1.79200000e+03, 1.00000000e+00],\n",
       "       [2.66600000e+03, 1.00000000e+00],\n",
       "       [6.47800000e+03, 1.00000000e+00],\n",
       "       [3.80800000e+03, 1.00000000e+00],\n",
       "       [3.72900000e+03, 1.00000000e+00],\n",
       "       [4.12000000e+03, 1.00000000e+00],\n",
       "       [7.50000000e+03, 1.00000000e+00],\n",
       "       [6.30000000e+03, 0.00000000e+00],\n",
       "       [1.49870000e+04, 1.00000000e+00],\n",
       "       [5.70000000e+02, 1.00000000e+00],\n",
       "       [2.60000000e+03, 1.00000000e+00],\n",
       "       [2.73300000e+03, 8.25443787e-01],\n",
       "       [7.50000000e+03, 1.00000000e+00],\n",
       "       [3.85900000e+03, 1.00000000e+00],\n",
       "       [6.82500000e+03, 1.00000000e+00],\n",
       "       [3.70800000e+03, 1.00000000e+00],\n",
       "       [5.31400000e+03, 1.00000000e+00],\n",
       "       [2.36600000e+03, 0.00000000e+00],\n",
       "       [2.06600000e+03, 1.00000000e+00],\n",
       "       [5.00000000e+03, 1.00000000e+00],\n",
       "       [3.76700000e+03, 1.00000000e+00],\n",
       "       [7.85900000e+03, 1.00000000e+00],\n",
       "       [4.28300000e+03, 1.00000000e+00],\n",
       "       [1.70000000e+03, 0.00000000e+00],\n",
       "       [4.76800000e+03, 1.00000000e+00],\n",
       "       [3.08300000e+03, 1.00000000e+00],\n",
       "       [2.66700000e+03, 1.00000000e+00],\n",
       "       [1.64700000e+03, 1.00000000e+00],\n",
       "       [3.40000000e+03, 1.00000000e+00],\n",
       "       [1.60000000e+04, 1.00000000e+00],\n",
       "       [5.33300000e+03, 1.00000000e+00],\n",
       "       [2.87500000e+03, 0.00000000e+00],\n",
       "       [2.60000000e+03, 1.00000000e+00],\n",
       "       [5.04100000e+03, 1.00000000e+00],\n",
       "       [6.95800000e+03, 1.00000000e+00],\n",
       "       [3.50000000e+03, 8.25443787e-01],\n",
       "       [5.50900000e+03, 1.00000000e+00],\n",
       "       [9.69900000e+03, 1.00000000e+00],\n",
       "       [3.62100000e+03, 1.00000000e+00],\n",
       "       [4.70900000e+03, 1.00000000e+00],\n",
       "       [1.51600000e+03, 1.00000000e+00],\n",
       "       [2.40000000e+03, 1.00000000e+00],\n",
       "       [3.01500000e+03, 8.25443787e-01],\n",
       "       [2.29200000e+03, 1.00000000e+00],\n",
       "       [2.36000000e+03, 1.00000000e+00],\n",
       "       [4.33300000e+03, 0.00000000e+00],\n",
       "       [2.62300000e+03, 1.00000000e+00],\n",
       "       [3.97200000e+03, 1.00000000e+00],\n",
       "       [3.52200000e+03, 1.00000000e+00],\n",
       "       [4.70000000e+03, 1.00000000e+00],\n",
       "       [6.85800000e+03, 1.00000000e+00],\n",
       "       [8.33400000e+03, 1.00000000e+00],\n",
       "       [3.39100000e+03, 0.00000000e+00],\n",
       "       [2.86800000e+03, 1.00000000e+00],\n",
       "       [3.41800000e+03, 1.00000000e+00],\n",
       "       [2.50000000e+03, 1.00000000e+00],\n",
       "       [8.66700000e+03, 1.00000000e+00],\n",
       "       [2.28300000e+03, 8.25443787e-01],\n",
       "       [5.81700000e+03, 1.00000000e+00],\n",
       "       [5.11900000e+03, 1.00000000e+00],\n",
       "       [5.31600000e+03, 0.00000000e+00],\n",
       "       [7.60300000e+03, 1.00000000e+00],\n",
       "       [3.79100000e+03, 1.00000000e+00],\n",
       "       [2.50000000e+03, 1.00000000e+00],\n",
       "       [3.13200000e+03, 8.25443787e-01],\n",
       "       [4.00000000e+03, 1.00000000e+00],\n",
       "       [8.55000000e+03, 8.25443787e-01],\n",
       "       [2.26900000e+03, 1.00000000e+00],\n",
       "       [4.00900000e+03, 1.00000000e+00],\n",
       "       [4.15800000e+03, 1.00000000e+00],\n",
       "       [3.25000000e+03, 8.25443787e-01],\n",
       "       [5.00000000e+03, 1.00000000e+00],\n",
       "       [9.20000000e+03, 1.00000000e+00]])"
      ]
     },
     "execution_count": 144,
     "metadata": {},
     "output_type": "execute_result"
    }
   ],
   "source": [
    "X=np.array(X)\n",
    "X"
   ]
  },
  {
   "cell_type": "markdown",
   "metadata": {},
   "source": [
    "### 11.Import matplotlib\n"
   ]
  },
  {
   "cell_type": "code",
   "execution_count": null,
   "metadata": {},
   "outputs": [],
   "source": []
  },
  {
   "cell_type": "markdown",
   "metadata": {},
   "source": [
    "### 12.Elbow method to determine K\n"
   ]
  },
  {
   "cell_type": "code",
   "execution_count": 145,
   "metadata": {},
   "outputs": [
    {
     "data": {
      "text/plain": [
       "[8826028226.821066,\n",
       " 3923519733.7950945,\n",
       " 1836441821.241959,\n",
       " 876634961.5192982,\n",
       " 505265913.7554704,\n",
       " 270702425.9966822,\n",
       " 192373911.36168078,\n",
       " 151203601.59573036,\n",
       " 124491110.93554258,\n",
       " 104261586.46617077]"
      ]
     },
     "execution_count": 145,
     "metadata": {},
     "output_type": "execute_result"
    }
   ],
   "source": [
    "wcss = []\n",
    "for i in range(1, 11):\n",
    "    kmeans = KMeans(n_clusters = i, init = 'k-means++', random_state = 42)\n",
    "    kmeans.fit(X)\n",
    "    wcss.append(kmeans.inertia_)\n",
    "wcss"
   ]
  },
  {
   "cell_type": "code",
   "execution_count": 146,
   "metadata": {},
   "outputs": [
    {
     "data": {
      "image/png": "[encoded data removed]",
      "text/plain": [
       "<Figure size 432x288 with 1 Axes>"
      ]
     },
     "metadata": {
      "needs_background": "light"
     },
     "output_type": "display_data"
    }
   ],
   "source": [
    "plt.plot(range(1, 11), wcss)\n",
    "plt.title('The Elbow Method')\n",
    "plt.xlabel('Number of clusters')\n",
    "plt.ylabel('WCSS')\n",
    "plt.show()"
   ]
  },
  {
   "cell_type": "markdown",
   "metadata": {
    "scrolled": true
   },
   "source": [
    "### 13.fit K_means with founded K\n",
    "\n"
   ]
  },
  {
   "cell_type": "code",
   "execution_count": 147,
   "metadata": {},
   "outputs": [
    {
     "data": {
      "text/plain": [
       "array([0, 2, 2, 2, 2, 2, 2, 2, 3, 2, 2, 2, 2, 3, 2, 0, 2, 2, 0, 2, 2, 2,\n",
       "       2, 2, 0, 2, 2, 0, 2, 2, 2, 0, 2, 2, 2, 2, 0, 2, 0, 2, 0, 2, 2, 0,\n",
       "       2, 2, 2, 2, 0, 0, 2, 2, 2, 2, 0, 2, 2, 2, 2, 2, 2, 0, 2, 2, 2, 2,\n",
       "       2, 2, 0, 2, 2, 2, 2, 2, 2, 2, 2, 0, 2, 0, 2, 1, 2, 0, 2, 2, 2, 2,\n",
       "       2, 2, 2, 3, 2, 2, 2, 0, 2, 2, 0, 0, 2, 2, 2, 2, 2, 2, 2, 2, 2, 2,\n",
       "       2, 2, 2, 2, 2, 2, 2, 2, 2, 2, 2, 2, 2, 2, 3, 2, 0, 0, 2, 2, 2, 2,\n",
       "       2, 2, 2, 2, 2, 2, 2, 2, 2, 2, 0, 4, 3, 3, 2, 0, 2, 0, 2, 2, 2, 2,\n",
       "       2, 2, 2, 2, 0, 0, 2, 2, 0, 2, 2, 2, 2, 2, 2, 2, 2, 2, 2, 2, 2, 2,\n",
       "       2, 2, 2, 3, 2, 2, 2, 2, 0, 2, 2, 0, 3, 0, 2, 2, 2, 2, 0, 0, 2, 2,\n",
       "       2, 2, 0, 2, 2, 2, 2, 2, 2, 2, 2, 2, 2, 0, 0, 0, 2, 2, 2, 0, 2, 2,\n",
       "       2, 2, 2, 2, 2, 2, 2, 2, 2, 2, 3, 2, 2, 0, 2, 2, 2, 0, 2, 2, 2, 2,\n",
       "       2, 2, 2, 2, 2, 0, 2, 2, 2, 2, 2, 2, 2, 2, 2, 2, 2, 2, 2, 2, 2, 3,\n",
       "       2, 2, 2, 2, 0, 2, 2, 2, 4, 0, 2, 2, 0, 0, 2, 4, 2, 2, 0, 0, 0, 0,\n",
       "       2, 2, 2, 0, 2, 2, 2, 2, 2, 2, 0, 2, 2, 2, 0, 0, 3, 2, 2, 2, 0, 2,\n",
       "       0, 2, 0, 2, 2, 2, 2, 0, 2, 2, 2, 2, 2, 2, 2, 3, 0, 2, 2, 2, 0, 2,\n",
       "       0, 0, 2, 2, 2, 2, 2, 2, 2, 2, 2, 2, 2, 2, 0, 0, 2, 2, 2, 2, 0, 2,\n",
       "       0, 2, 0, 0, 2, 2, 2, 2, 0, 2, 2, 2, 2, 2, 0])"
      ]
     },
     "execution_count": 147,
     "metadata": {},
     "output_type": "execute_result"
    }
   ],
   "source": [
    "kmeans = KMeans(n_clusters = 5, init = 'k-means++', random_state = 42)\n",
    "y_kmeans = kmeans.fit_predict(X)\n",
    "y_kmeans"
   ]
  },
  {
   "cell_type": "markdown",
   "metadata": {},
   "source": [
    "### 14.show cluster results\n"
   ]
  },
  {
   "cell_type": "code",
   "execution_count": 148,
   "metadata": {},
   "outputs": [
    {
     "data": {
      "text/plain": [
       "array([[5.72000000e+03, 1.00000000e+00],\n",
       "       [5.66700000e+03, 1.00000000e+00],\n",
       "       [9.22600000e+03, 1.00000000e+00],\n",
       "       [5.40000000e+03, 1.00000000e+00],\n",
       "       [7.50000000e+03, 1.00000000e+00],\n",
       "       [6.25000000e+03, 1.00000000e+00],\n",
       "       [7.35000000e+03, 1.00000000e+00],\n",
       "       [5.83300000e+03, 1.00000000e+00],\n",
       "       [5.62900000e+03, 1.00000000e+00],\n",
       "       [6.50000000e+03, 1.00000000e+00],\n",
       "       [6.79200000e+03, 1.00000000e+00],\n",
       "       [8.00000000e+03, 1.00000000e+00],\n",
       "       [5.29300000e+03, 1.00000000e+00],\n",
       "       [7.01600000e+03, 1.00000000e+00],\n",
       "       [7.66600000e+03, 1.00000000e+00],\n",
       "       [6.35600000e+03, 1.00000000e+00],\n",
       "       [7.95000000e+03, 1.00000000e+00],\n",
       "       [8.44900000e+03, 1.00000000e+00],\n",
       "       [6.26000000e+03, 1.00000000e+00],\n",
       "       [9.71900000e+03, 1.00000000e+00],\n",
       "       [6.83500000e+03, 8.25443787e-01],\n",
       "       [6.50000000e+03, 0.00000000e+00],\n",
       "       [7.50000000e+03, 1.00000000e+00],\n",
       "       [6.79400000e+03, 0.00000000e+00],\n",
       "       [8.70300000e+03, 0.00000000e+00],\n",
       "       [5.90000000e+03, 1.00000000e+00],\n",
       "       [5.82300000e+03, 1.00000000e+00],\n",
       "       [7.89500000e+03, 1.00000000e+00],\n",
       "       [5.58300000e+03, 1.00000000e+00],\n",
       "       [1.01660000e+04, 1.00000000e+00],\n",
       "       [9.16700000e+03, 1.00000000e+00],\n",
       "       [7.87400000e+03, 1.00000000e+00],\n",
       "       [1.00000000e+04, 1.00000000e+00],\n",
       "       [5.83300000e+03, 1.00000000e+00],\n",
       "       [8.70600000e+03, 1.00000000e+00],\n",
       "       [5.33300000e+03, 0.00000000e+00],\n",
       "       [5.38400000e+03, 1.00000000e+00],\n",
       "       [5.70800000e+03, 1.00000000e+00],\n",
       "       [7.83000000e+03, 1.00000000e+00],\n",
       "       [7.60000000e+03, 1.00000000e+00],\n",
       "       [6.16600000e+03, 1.00000000e+00],\n",
       "       [1.00000000e+04, 1.00000000e+00],\n",
       "       [5.83300000e+03, 0.00000000e+00],\n",
       "       [5.66700000e+03, 0.00000000e+00],\n",
       "       [6.50000000e+03, 1.00000000e+00],\n",
       "       [5.76900000e+03, 1.00000000e+00],\n",
       "       [5.53000000e+03, 8.25443787e-01],\n",
       "       [9.00000000e+03, 1.00000000e+00],\n",
       "       [1.00000000e+04, 1.00000000e+00],\n",
       "       [8.75000000e+03, 1.00000000e+00],\n",
       "       [8.33300000e+03, 1.00000000e+00],\n",
       "       [6.47800000e+03, 1.00000000e+00],\n",
       "       [7.50000000e+03, 1.00000000e+00],\n",
       "       [6.30000000e+03, 0.00000000e+00],\n",
       "       [7.50000000e+03, 1.00000000e+00],\n",
       "       [6.82500000e+03, 1.00000000e+00],\n",
       "       [5.31400000e+03, 1.00000000e+00],\n",
       "       [7.85900000e+03, 1.00000000e+00],\n",
       "       [5.33300000e+03, 1.00000000e+00],\n",
       "       [6.95800000e+03, 1.00000000e+00],\n",
       "       [5.50900000e+03, 1.00000000e+00],\n",
       "       [9.69900000e+03, 1.00000000e+00],\n",
       "       [6.85800000e+03, 1.00000000e+00],\n",
       "       [8.33400000e+03, 1.00000000e+00],\n",
       "       [8.66700000e+03, 1.00000000e+00],\n",
       "       [5.81700000e+03, 1.00000000e+00],\n",
       "       [5.31600000e+03, 0.00000000e+00],\n",
       "       [7.60300000e+03, 1.00000000e+00],\n",
       "       [8.55000000e+03, 8.25443787e-01],\n",
       "       [9.20000000e+03, 1.00000000e+00]])"
      ]
     },
     "execution_count": 148,
     "metadata": {},
     "output_type": "execute_result"
    }
   ],
   "source": [
    "X[y_kmeans==0]"
   ]
  },
  {
   "cell_type": "code",
   "execution_count": 149,
   "metadata": {},
   "outputs": [
    {
     "data": {
      "text/plain": [
       "array([ 5720.,  5667.,  9226.,  5400.,  7500.,  6250.,  7350.,  5833.,\n",
       "        5629.,  6500.,  6792.,  8000.,  5293.,  7016.,  7666.,  6356.,\n",
       "        7950.,  8449.,  6260.,  9719.,  6835.,  6500.,  7500.,  6794.,\n",
       "        8703.,  5900.,  5823.,  7895.,  5583., 10166.,  9167.,  7874.,\n",
       "       10000.,  5833.,  8706.,  5333.,  5384.,  5708.,  7830.,  7600.,\n",
       "        6166., 10000.,  5833.,  5667.,  6500.,  5769.,  5530.,  9000.,\n",
       "       10000.,  8750.,  8333.,  6478.,  7500.,  6300.,  7500.,  6825.,\n",
       "        5314.,  7859.,  5333.,  6958.,  5509.,  9699.,  6858.,  8334.,\n",
       "        8667.,  5817.,  5316.,  7603.,  8550.,  9200.])"
      ]
     },
     "execution_count": 149,
     "metadata": {},
     "output_type": "execute_result"
    }
   ],
   "source": [
    "X[y_kmeans==0,0]"
   ]
  },
  {
   "cell_type": "markdown",
   "metadata": {},
   "source": [
    "### 15.print cluster centers\n"
   ]
  },
  {
   "cell_type": "code",
   "execution_count": 150,
   "metadata": {},
   "outputs": [
    {
     "data": {
      "text/plain": [
       "array([[7.12821127e+03, 8.79948329e-01],\n",
       "       [7.25290000e+04, 1.00000000e+00],\n",
       "       [3.32239643e+03, 8.10038039e-01],\n",
       "       [1.40656667e+04, 8.18786982e-01],\n",
       "       [2.86546667e+04, 9.41814596e-01]])"
      ]
     },
     "execution_count": 150,
     "metadata": {},
     "output_type": "execute_result"
    }
   ],
   "source": [
    "kmeans.cluster_centers_"
   ]
  },
  {
   "cell_type": "markdown",
   "metadata": {},
   "source": [
    "### 16.Lets plot those clusters!\n"
   ]
  },
  {
   "cell_type": "code",
   "execution_count": 151,
   "metadata": {},
   "outputs": [
    {
     "data": {
      "image/png": "[encoded data removed]",
      "text/plain": [
       "<Figure size 1080x576 with 1 Axes>"
      ]
     },
     "metadata": {
      "needs_background": "light"
     },
     "output_type": "display_data"
    }
   ],
   "source": [
    "fig = plt.figure(figsize = (15,8))\n",
    "plt.scatter(X[y_kmeans==0,0],X[y_kmeans==0,1],s=100,c='magenta',label='Standard')\n",
    "plt.scatter(X[y_kmeans==1,0],X[y_kmeans==1,1],s=100,c='blue',label='Careful')\n",
    "plt.scatter(X[y_kmeans==2,0],X[y_kmeans==2,1],s=100,c='green',label='Sensible ')\n",
    "plt.scatter(X[y_kmeans==3,0],X[y_kmeans==3,1],s=100,c='black',label='Careless')\n",
    "plt.scatter(X[y_kmeans==4,0],X[y_kmeans==4,1],s=100,c='burlywood',label='Target')\n",
    "plt.scatter(kmeans.cluster_centers_[:,0],kmeans.cluster_centers_[:,1],s=200,c='red',label='Centroids')\n",
    "plt.title('Cluster ')\n",
    "plt.xlabel('X')\n",
    "plt.ylabel('Y')\n",
    "plt.legend()\n",
    "plt.show()\n"
   ]
  },
  {
   "cell_type": "markdown",
   "metadata": {},
   "source": [
    "### 17.Create dendogram\n",
    "\n"
   ]
  },
  {
   "cell_type": "code",
   "execution_count": 152,
   "metadata": {},
   "outputs": [
    {
     "data": {
      "image/png": "[encoded data removed]",
      "text/plain": [
       "<Figure size 432x288 with 1 Axes>"
      ]
     },
     "metadata": {
      "needs_background": "light"
     },
     "output_type": "display_data"
    }
   ],
   "source": [
    "dendogram=sch.dendrogram(sch.linkage(X,method='ward')) # Within cluster variance is reduced with ward method\n",
    "plt.title('Dendogram')\n",
    "plt.xlabel('Customers')\n",
    "plt.ylabel('Euclidean distances')\n",
    "plt.show()"
   ]
  },
  {
   "cell_type": "code",
   "execution_count": null,
   "metadata": {},
   "outputs": [],
   "source": []
  },
  {
   "cell_type": "markdown",
   "metadata": {},
   "source": [
    "### 18.Fit agglomerative hierarchical clustering\n",
    "\n"
   ]
  },
  {
   "cell_type": "code",
   "execution_count": 153,
   "metadata": {},
   "outputs": [],
   "source": [
    "hc=AgglomerativeClustering(n_clusters=5,affinity='euclidean',linkage='ward')\n",
    "y_hc=hc.fit_predict(X)"
   ]
  },
  {
   "cell_type": "markdown",
   "metadata": {},
   "source": [
    "### 19.Lets plot those clusters!\n",
    "\n"
   ]
  },
  {
   "cell_type": "code",
   "execution_count": 154,
   "metadata": {},
   "outputs": [
    {
     "data": {
      "image/png": "[encoded data removed]",
      "text/plain": [
       "<Figure size 1080x576 with 1 Axes>"
      ]
     },
     "metadata": {
      "needs_background": "light"
     },
     "output_type": "display_data"
    }
   ],
   "source": [
    "fig = plt.figure(figsize = (15,8))\n",
    "plt.scatter(X[y_hc==0,0],X[y_hc==0,1],s=100,c='magenta',label='Careful')\n",
    "plt.scatter(X[y_hc==1,0],X[y_hc==1,1],s=100,c='blue',label='Standard')\n",
    "plt.scatter(X[y_hc==2,0],X[y_hc==2,1],s=100,c='green',label='Target')\n",
    "plt.scatter(X[y_hc==3,0],X[y_hc==3,1],s=100,c='cyan',label='Careless')\n",
    "plt.scatter(X[y_hc==4,0],X[y_hc==4,1],s=100,c='burlywood',label='Sensible')\n",
    "plt.title('Cluster of Clients')\n",
    "plt.xlabel('Annual Income')\n",
    "plt.ylabel('Spending Score (1-100)')\n",
    "plt.legend()\n",
    "plt.ioff()\n",
    "plt.show()"
   ]
  }
 ],
 "metadata": {
  "kernelspec": {
   "display_name": "Python 3",
   "language": "python",
   "name": "python3"
  },
  "language_info": {
   "codemirror_mode": {
    "name": "ipython",
    "version": 3
   },
   "file_extension": ".py",
   "mimetype": "text/x-python",
   "name": "python",
   "nbconvert_exporter": "python",
   "pygments_lexer": "ipython3",
   "version": "3.8.3"
  },
  "varInspector": {
   "cols": {
    "lenName": 16,
    "lenType": 16,
    "lenVar": 40
   },
   "kernels_config": {
    "python": {
     "delete_cmd_postfix": "",
     "delete_cmd_prefix": "del ",
     "library": "var_list.py",
     "varRefreshCmd": "print(var_dic_list())"
    },
    "r": {
     "delete_cmd_postfix": ") ",
     "delete_cmd_prefix": "rm(",
     "library": "var_list.r",
     "varRefreshCmd": "cat(var_dic_list()) "
    }
   },
   "types_to_exclude": [
    "module",
    "function",
    "builtin_function_or_method",
    "instance",
    "_Feature"
   ],
   "window_display": false
  }
 },
 "nbformat": 4,
 "nbformat_minor": 2
}
